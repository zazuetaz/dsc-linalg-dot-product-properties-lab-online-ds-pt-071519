{
 "cells": [
  {
   "cell_type": "markdown",
   "metadata": {},
   "source": [
    "# Properties of Dot Product - Lab\n",
    "\n",
    "## Introduction\n",
    "\n",
    "In this lab, you'll be practicing some interesting properties of a dot product-type matrix multiplication. Understanding these properties will become useful as you study machine learning. The lab will require you to calculate results to provide a proof for these properties.\n",
    "\n",
    "## Objectives\n",
    "\n",
    "In this lab you will: \n",
    "\n",
    "- Demonstrate the distributive, commutative, and associative property of dot products \n",
    "- Use the transpose method to transpose Numpy matrices \n",
    "- Compute the dot product for matrices and vectors \n",
    "\n",
    "\n",
    "## Instructions\n",
    "\n",
    "* For each property, create suitably sized matrices with random data to prove the equations \n",
    "* Ensure that size/dimension assumptions are met while performing calculations (you'll see errors otherwise)\n",
    "* Calculate the LHS and RHS for all equations and show if they are equal or not\n",
    "\n",
    "## Distributive Property - matrix multiplication IS distributive\n",
    "\n",
    "### Prove that $A \\cdot (B+C) = (A \\cdot B + A \\cdot C) $"
   ]
  },
  {
   "cell_type": "markdown",
   "metadata": {},
   "source": [
    "Generate matricies"
   ]
  },
  {
   "cell_type": "code",
   "execution_count": 26,
   "metadata": {},
   "outputs": [],
   "source": [
    "def fill_mat(x,y):\n",
    "    \n",
    "    import numpy as np\n",
    "    import random\n",
    "    \n",
    "    mat = np.zeros((x,y))\n",
    "    \n",
    "    for x in range(0, mat.shape[0]):\n",
    "        for y in range(0, mat.shape[1]):\n",
    "            mat[x][y] = np.random.randint(1,10)\n",
    "            \n",
    "    return mat"
   ]
  },
  {
   "cell_type": "code",
   "execution_count": 27,
   "metadata": {},
   "outputs": [
    {
     "data": {
      "text/plain": [
       "array([[6., 3.],\n",
       "       [4., 7.],\n",
       "       [5., 5.]])"
      ]
     },
     "execution_count": 27,
     "metadata": {},
     "output_type": "execute_result"
    }
   ],
   "source": [
    "# Your code here\n",
    "fill_mat(3,2)"
   ]
  },
  {
   "cell_type": "code",
   "execution_count": 28,
   "metadata": {},
   "outputs": [],
   "source": [
    "#Distributive property"
   ]
  },
  {
   "cell_type": "code",
   "execution_count": 29,
   "metadata": {},
   "outputs": [
    {
     "name": "stdout",
     "output_type": "stream",
     "text": [
      "[[151. 124. 132.]\n",
      " [ 63.  92.  86.]\n",
      " [197. 197. 198.]]\n",
      "[[151. 124. 132.]\n",
      " [ 63.  92.  86.]\n",
      " [197. 197. 198.]]\n"
     ]
    }
   ],
   "source": [
    "A = fill_mat(3,3)\n",
    "B = fill_mat(3,3)\n",
    "C = fill_mat(3,3)\n",
    "\n",
    "r = A.dot(B+C)\n",
    "s = A.dot(B) + A.dot(C)\n",
    "\n",
    "print(r)\n",
    "print(s)"
   ]
  },
  {
   "cell_type": "markdown",
   "metadata": {},
   "source": [
    "## Associative Property - matrix multiplication IS associative\n",
    "### Prove that $A \\cdot (B \\cdot C) = (A \\cdot B) \\cdot C $"
   ]
  },
  {
   "cell_type": "code",
   "execution_count": 31,
   "metadata": {},
   "outputs": [
    {
     "name": "stdout",
     "output_type": "stream",
     "text": [
      "[[ 695. 1165. 1302.]\n",
      " [ 355.  525.  616.]\n",
      " [ 964. 1556. 1764.]]\n",
      "[[ 695. 1165. 1302.]\n",
      " [ 355.  525.  616.]\n",
      " [ 964. 1556. 1764.]]\n"
     ]
    }
   ],
   "source": [
    "# Your code here \n",
    "\n",
    "r = A.dot(B.dot(C))\n",
    "s = A.dot(B).dot(C)\n",
    "\n",
    "print(r)\n",
    "print(s)"
   ]
  },
  {
   "cell_type": "markdown",
   "metadata": {},
   "source": [
    "## Commutative Property - matrix multiplication is NOT commutative\n",
    "### Prove that for matrices, $A \\cdot B \\neq B \\cdot A $"
   ]
  },
  {
   "cell_type": "code",
   "execution_count": 32,
   "metadata": {},
   "outputs": [
    {
     "name": "stdout",
     "output_type": "stream",
     "text": [
      "[[ 97.  48.  41.]\n",
      " [ 31.  34.  23.]\n",
      " [119.  75.  58.]]\n",
      "[[40. 22. 27.]\n",
      " [62. 58. 91.]\n",
      " [63. 59. 91.]]\n"
     ]
    }
   ],
   "source": [
    "# Your code here \n",
    "r = A.dot(B)\n",
    "s = B.dot(A)\n",
    "\n",
    "print(r)\n",
    "print(s)"
   ]
  },
  {
   "cell_type": "markdown",
   "metadata": {},
   "source": [
    "## Commutative Property -  vector multiplication IS commutative\n",
    "### Prove that for vectors,  $x^T \\cdot y = y^T \\cdot x$\n",
    "Note: superscipt<sup>T</sup> denotes the transpose we saw earlier"
   ]
  },
  {
   "cell_type": "code",
   "execution_count": 33,
   "metadata": {},
   "outputs": [
    {
     "name": "stdout",
     "output_type": "stream",
     "text": [
      "[[113.  54.  49.]\n",
      " [ 65.  42.  31.]\n",
      " [ 87.  63.  42.]]\n",
      "[[113.  65.  87.]\n",
      " [ 54.  42.  63.]\n",
      " [ 49.  31.  42.]]\n"
     ]
    }
   ],
   "source": [
    "# Your code here \n",
    "\n",
    "r = A.T.dot(B)\n",
    "s = B.T.dot(A)\n",
    "\n",
    "print(r)\n",
    "print(s)"
   ]
  },
  {
   "cell_type": "markdown",
   "metadata": {},
   "source": [
    "## Simplification of the matrix product\n",
    "### Prove that $ (A \\cdot B)^T = B^T \\cdot A^T $"
   ]
  },
  {
   "cell_type": "code",
   "execution_count": 34,
   "metadata": {},
   "outputs": [
    {
     "name": "stdout",
     "output_type": "stream",
     "text": [
      "[[ 97.  31. 119.]\n",
      " [ 48.  34.  75.]\n",
      " [ 41.  23.  58.]]\n",
      "[[ 97.  31. 119.]\n",
      " [ 48.  34.  75.]\n",
      " [ 41.  23.  58.]]\n"
     ]
    }
   ],
   "source": [
    "# Your code here \n",
    "\n",
    "r = (A.dot(B)).T\n",
    "s = B.T.dot(A.T)\n",
    "\n",
    "print(r)\n",
    "print(s)"
   ]
  },
  {
   "cell_type": "markdown",
   "metadata": {},
   "source": [
    "## Summary \n",
    "\n",
    "You've seen enough matrix algebra by now to solve a problem of linear equations as you saw earlier. You'll now see how to do this next. "
   ]
  }
 ],
 "metadata": {
  "kernelspec": {
   "display_name": "Python 3",
   "language": "python",
   "name": "python3"
  },
  "language_info": {
   "codemirror_mode": {
    "name": "ipython",
    "version": 3
   },
   "file_extension": ".py",
   "mimetype": "text/x-python",
   "name": "python",
   "nbconvert_exporter": "python",
   "pygments_lexer": "ipython3",
   "version": "3.6.6"
  }
 },
 "nbformat": 4,
 "nbformat_minor": 2
}
